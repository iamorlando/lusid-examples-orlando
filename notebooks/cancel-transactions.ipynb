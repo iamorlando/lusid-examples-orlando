{
 "cells": [
  {
   "cell_type": "code",
   "execution_count": 10,
   "metadata": {},
   "outputs": [
    {
     "data": {
      "text/markdown": [
       "This IPython session has already instantiated the following objects\n",
       "| Variable Name | Statement         | Description                          |\n",
       "|---------------|-------------------|--------------------------------------|\n",
       "| lu          | `import lusid as lu` | Main LUSID package                   |\n",
       "| lm          | `import lusid.models as lm` | LUSID models module                  |\n",
       "| apis         | `import lusid_express.apis as apis` | convenience package providing pre-authenticated api access.                 |\n"
      ],
      "text/plain": [
       "<IPython.core.display.Markdown object>"
      ]
     },
     "execution_count": 10,
     "metadata": {},
     "output_type": "execute_result"
    }
   ],
   "source": [
    "from lusid_express.display import STYLES, render_html, render_table, display_preloaded_vars\n",
    "render_html(STYLES['table'])\n",
    "display_preloaded_vars()"
   ]
  },
  {
   "cell_type": "code",
   "execution_count": 11,
   "metadata": {
    "vscode": {
     "languageId": "sql"
    }
   },
   "outputs": [
    {
     "data": {
      "text/html": [
       "<div>\n",
       "<style scoped>\n",
       "    .dataframe tbody tr th:only-of-type {\n",
       "        vertical-align: middle;\n",
       "    }\n",
       "\n",
       "    .dataframe tbody tr th {\n",
       "        vertical-align: top;\n",
       "    }\n",
       "\n",
       "    .dataframe thead th {\n",
       "        text-align: right;\n",
       "    }\n",
       "</style>\n",
       "<table border=\"1\" class=\"dataframe\">\n",
       "  <thead>\n",
       "    <tr style=\"text-align: right;\">\n",
       "      <th></th>\n",
       "      <th>PortfolioScope</th>\n",
       "      <th>PortfolioCode</th>\n",
       "      <th>DisplayName</th>\n",
       "      <th>TxnId</th>\n",
       "      <th>Type</th>\n",
       "      <th>TransactionDate</th>\n",
       "      <th>SettlementDate</th>\n",
       "      <th>Units</th>\n",
       "      <th>TradePrice</th>\n",
       "      <th>TradePriceType</th>\n",
       "      <th>...</th>\n",
       "      <th>ShareClassFigi</th>\n",
       "      <th>Wertpapier</th>\n",
       "      <th>RIC</th>\n",
       "      <th>QuotePermId</th>\n",
       "      <th>EdiKey</th>\n",
       "      <th>WriteAction</th>\n",
       "      <th>WriteAsAt</th>\n",
       "      <th>WriteErrorCode</th>\n",
       "      <th>WriteError</th>\n",
       "      <th>WriteErrorDetail</th>\n",
       "    </tr>\n",
       "  </thead>\n",
       "  <tbody>\n",
       "    <tr>\n",
       "      <th>0</th>\n",
       "      <td>ibor</td>\n",
       "      <td>3cc8-f536-ae54-c2</td>\n",
       "      <td>3cc8-f536-ae54-c2</td>\n",
       "      <td>MF1F1NH00</td>\n",
       "      <td>Buy</td>\n",
       "      <td>2024-04-17</td>\n",
       "      <td>2024-04-18</td>\n",
       "      <td>1</td>\n",
       "      <td>0</td>\n",
       "      <td>Price</td>\n",
       "      <td>...</td>\n",
       "      <td>NaN</td>\n",
       "      <td>NaN</td>\n",
       "      <td>NaN</td>\n",
       "      <td>NaN</td>\n",
       "      <td>NaN</td>\n",
       "      <td>Upsert</td>\n",
       "      <td>2024-04-18 17:27:16.123</td>\n",
       "      <td>0</td>\n",
       "      <td>NaN</td>\n",
       "      <td>NaN</td>\n",
       "    </tr>\n",
       "    <tr>\n",
       "      <th>1</th>\n",
       "      <td>ibor</td>\n",
       "      <td>3cc8-f536-ae54-c2</td>\n",
       "      <td>3cc8-f536-ae54-c2</td>\n",
       "      <td>MF1F1NH01</td>\n",
       "      <td>Sell</td>\n",
       "      <td>2024-04-17</td>\n",
       "      <td>2024-04-18</td>\n",
       "      <td>1</td>\n",
       "      <td>0</td>\n",
       "      <td>Price</td>\n",
       "      <td>...</td>\n",
       "      <td>NaN</td>\n",
       "      <td>NaN</td>\n",
       "      <td>NaN</td>\n",
       "      <td>NaN</td>\n",
       "      <td>NaN</td>\n",
       "      <td>Upsert</td>\n",
       "      <td>2024-04-18 17:27:16.123</td>\n",
       "      <td>0</td>\n",
       "      <td>NaN</td>\n",
       "      <td>NaN</td>\n",
       "    </tr>\n",
       "  </tbody>\n",
       "</table>\n",
       "<p>2 rows × 42 columns</p>\n",
       "</div>"
      ],
      "text/plain": [
       "  PortfolioScope      PortfolioCode        DisplayName      TxnId  Type  \\\n",
       "0           ibor  3cc8-f536-ae54-c2  3cc8-f536-ae54-c2  MF1F1NH00   Buy   \n",
       "1           ibor  3cc8-f536-ae54-c2  3cc8-f536-ae54-c2  MF1F1NH01  Sell   \n",
       "\n",
       "  TransactionDate SettlementDate  Units  TradePrice TradePriceType  ...  \\\n",
       "0      2024-04-17     2024-04-18      1           0          Price  ...   \n",
       "1      2024-04-17     2024-04-18      1           0          Price  ...   \n",
       "\n",
       "   ShareClassFigi  Wertpapier  RIC QuotePermId  EdiKey WriteAction  \\\n",
       "0             NaN         NaN  NaN         NaN     NaN      Upsert   \n",
       "1             NaN         NaN  NaN         NaN     NaN      Upsert   \n",
       "\n",
       "                 WriteAsAt  WriteErrorCode  WriteError  WriteErrorDetail  \n",
       "0  2024-04-18 17:27:16.123               0         NaN               NaN  \n",
       "1  2024-04-18 17:27:16.123               0         NaN               NaN  \n",
       "\n",
       "[2 rows x 42 columns]"
      ]
     },
     "execution_count": 11,
     "metadata": {},
     "output_type": "execute_result"
    }
   ],
   "source": [
    "%%luminesce \n",
    "@transactionsExcel = use Drive.excel --file=/Transactions_test.xlsx\n",
    "enduse;\n",
    "\n",
    "@txns =\n",
    "select\n",
    "    *,\n",
    "    \"Source Portfolio Code\" as PortfolioCode,\n",
    "    \"Source Portfolio Scope\" as PortfolioScope,\n",
    "    \"Transaction Id\" as TxnId,\n",
    "    \"04/17/2024\" as TransactionDate,\n",
    "    \"04/18/2024\" as SettlementDate,\n",
    "    \"USD\" as SettlementCurrency\n",
    "from\n",
    "    @transactionsExcel;\n",
    "\n",
    "select\n",
    "    *\n",
    "from\n",
    "    Lusid.Portfolio.Txn.Writer\n",
    "where\n",
    "    toWrite = @txns;"
   ]
  },
  {
   "cell_type": "code",
   "execution_count": 12,
   "metadata": {
    "vscode": {
     "languageId": "sql"
    }
   },
   "outputs": [
    {
     "data": {
      "text/html": [
       "<div>\n",
       "<style scoped>\n",
       "    .dataframe tbody tr th:only-of-type {\n",
       "        vertical-align: middle;\n",
       "    }\n",
       "\n",
       "    .dataframe tbody tr th {\n",
       "        vertical-align: top;\n",
       "    }\n",
       "\n",
       "    .dataframe thead th {\n",
       "        text-align: right;\n",
       "    }\n",
       "</style>\n",
       "<table border=\"1\" class=\"dataframe\">\n",
       "  <thead>\n",
       "    <tr style=\"text-align: right;\">\n",
       "      <th></th>\n",
       "      <th>TxnId</th>\n",
       "      <th>PortfolioCode</th>\n",
       "      <th>PortfolioScope</th>\n",
       "    </tr>\n",
       "  </thead>\n",
       "  <tbody>\n",
       "    <tr>\n",
       "      <th>0</th>\n",
       "      <td>MF1F1NH00</td>\n",
       "      <td>3cc8-f536-ae54-c2</td>\n",
       "      <td>ibor</td>\n",
       "    </tr>\n",
       "    <tr>\n",
       "      <th>1</th>\n",
       "      <td>MF1F1NH01</td>\n",
       "      <td>3cc8-f536-ae54-c2</td>\n",
       "      <td>ibor</td>\n",
       "    </tr>\n",
       "  </tbody>\n",
       "</table>\n",
       "</div>"
      ],
      "text/plain": [
       "       TxnId      PortfolioCode PortfolioScope\n",
       "0  MF1F1NH00  3cc8-f536-ae54-c2           ibor\n",
       "1  MF1F1NH01  3cc8-f536-ae54-c2           ibor"
      ]
     },
     "execution_count": 12,
     "metadata": {},
     "output_type": "execute_result"
    }
   ],
   "source": [
    "%%luminesce\n",
    "SELECT\n",
    "    [TxnId],\n",
    "    [PortfolioCode],\n",
    "    [PortfolioScope]\n",
    "FROM\n",
    "    [Lusid.Portfolio.Txn]\n",
    "WHERE\n",
    "    [TxnId] LIKE 'MF1F1NH%'"
   ]
  },
  {
   "cell_type": "code",
   "execution_count": 13,
   "metadata": {},
   "outputs": [
    {
     "data": {
      "text/html": [
       "<html><head>\n",
       "<style>\n",
       "@import url('https://fonts.googleapis.com/css2?family=Montserrat:wght@400;500;600;700&display=swap');\n",
       "body, h1, h2, h3, p {\n",
       "    font-family: 'Montserrat';\n",
       "}\n",
       "table {\n",
       "\n",
       "    margin-left: 2px;\n",
       "    margin-right: 2px;\n",
       "    border-collapse: collapse;\n",
       "    text-align: center;\n",
       "    color: #065F82;\n",
       "    border: 2px solid #ccc; /* Add border */\n",
       "    box-shadow: 0px 4px 8px rgba(0, 0, 0, 0.1); /* Add drop shadow */\n",
       "    font-weight: semi-bold;\n",
       "}\n",
       "h1 {\n",
       "    font-size: 15px;\n",
       "    line-height: 30px;\n",
       "    font-weight: bold;\n",
       "\n",
       "    color: #00B6DA;\n",
       "}\n",
       "h2 {\n",
       "    font-size: 12px;\n",
       "    line-height: 16px;\n",
       "    font-weight: bold;\n",
       "    \n",
       "    color: white;\n",
       "\n",
       "}\n",
       "h3 {\n",
       "    font-size: 12px;\n",
       "    line-height: 12px;\n",
       "    font-weight: 600;\n",
       "    text-align: start\n",
       "color: white;\n",
       "\n",
       "}\n",
       "p {\n",
       "    font-size: 12px;\n",
       "    line-height: 12px;\n",
       "    font-weight: 500;\n",
       "color: white;\n",
       "\n",
       "}\n",
       "th, td {\n",
       "    height: 15px; /* Fixed height for all rows */\n",
       "\n",
       "\n",
       "}\n",
       "th h2, td h3, td p {\n",
       "    margin: 0;     /* Remove margin from cell contents */\n",
       "    padding: 5px;  /* Reduce padding */\n",
       "    text-align: left; \n",
       "    white-space: nowrap; /* Prevent text wrapping */\n",
       "}\n",
       "\n",
       "tr:nth-child(even) td {\n",
       "    border-color: #FF5500;\n",
       "    color: #FF5500\n",
       "}\n",
       "    tr:nth-child(odd) td {\n",
       "    border-color: #415464;\n",
       "    color: #FF5500;\n",
       "}\n",
       "\n",
       "</style>\n",
       "</head><body><h1>Response</h1> <table style=\"padding-bottom: 20px;\" id='data_table'><tr><th><h2>Key</h2></th><th><h2>Value</h2></th></tr><tr><td><h3>href</h3></td><td><p>None</p></td></tr><tr><td><h3>effective_from</h3></td><td><p>None</p></td></tr><tr><td><h3>as_at</h3></td><td><p>2024-04-18 17:27:18.967870+00:00</p></td></tr><tr><td><h3>links</h3></td><td><p>[{'relation': 'RequestLogs', 'href': 'https://fbn-orlando.lusid.com/app/insights/logs/0HN2VK8P66LDP:0000003D', 'description': 'A link to the LUSID Insights website showing all logs related to this request', 'method': 'GET'}]</p></td></tr></table  >  <button onclick='copyTable()'>Copy to Clipboard</button>\n",
       " <script>\n",
       "        function copyTable() {\n",
       "            var rows = document.querySelectorAll('#data_table tr');\n",
       "            var csvContent = '';\n",
       "            rows.forEach(function(row, index) {\n",
       "                var cols = row.querySelectorAll('th, td');\n",
       "                var rowData = [];\n",
       "                cols.forEach(function(col) {\n",
       "                    var text = col.innerText.replace(/(\\r\\n|\\n|\\r)/gm, '');\n",
       "                    rowData.push(text);\n",
       "                });\n",
       "                csvContent += rowData.join('\\t') + '\\n';\n",
       "            });\n",
       "            var el = document.createElement('textarea');\n",
       "            el.value = csvContent;\n",
       "            document.body.appendChild(el);\n",
       "            el.select();\n",
       "            document.execCommand('copy');\n",
       "            document.body.removeChild(el);\n",
       "            alert('Copied to clipboard');\n",
       "        }\n",
       "        </script>\n",
       "        </body></html>"
      ],
      "text/plain": [
       "<IPython.core.display.HTML object>"
      ]
     },
     "execution_count": 13,
     "metadata": {},
     "output_type": "execute_result"
    }
   ],
   "source": [
    "df = _\n",
    "response = apis.transaction_portfolios_api.cancel_transactions(\n",
    "    scope=df.PortfolioScope.tolist()[0],\n",
    "    code=df.PortfolioCode.tolist()[0],\n",
    "    transaction_ids=df.TxnId.tolist(),\n",
    ")\n",
    "render_table(response.to_dict(), title=\"Response\")"
   ]
  },
  {
   "cell_type": "code",
   "execution_count": 14,
   "metadata": {
    "vscode": {
     "languageId": "sql"
    }
   },
   "outputs": [
    {
     "data": {
      "text/html": [
       "<div>\n",
       "<style scoped>\n",
       "    .dataframe tbody tr th:only-of-type {\n",
       "        vertical-align: middle;\n",
       "    }\n",
       "\n",
       "    .dataframe tbody tr th {\n",
       "        vertical-align: top;\n",
       "    }\n",
       "\n",
       "    .dataframe thead th {\n",
       "        text-align: right;\n",
       "    }\n",
       "</style>\n",
       "<table border=\"1\" class=\"dataframe\">\n",
       "  <thead>\n",
       "    <tr style=\"text-align: right;\">\n",
       "      <th></th>\n",
       "      <th>TxnId</th>\n",
       "      <th>PortfolioCode</th>\n",
       "      <th>PortfolioScope</th>\n",
       "    </tr>\n",
       "  </thead>\n",
       "  <tbody>\n",
       "  </tbody>\n",
       "</table>\n",
       "</div>"
      ],
      "text/plain": [
       "Empty DataFrame\n",
       "Columns: [TxnId, PortfolioCode, PortfolioScope]\n",
       "Index: []"
      ]
     },
     "execution_count": 14,
     "metadata": {},
     "output_type": "execute_result"
    }
   ],
   "source": [
    "%%luminesce\n",
    "SELECT\n",
    "    [TxnId],\n",
    "    [PortfolioCode],\n",
    "    [PortfolioScope]\n",
    "FROM\n",
    "    [Lusid.Portfolio.Txn]\n",
    "WHERE\n",
    "    [TxnId] LIKE 'MF1F1NH%'"
   ]
  },
  {
   "cell_type": "code",
   "execution_count": null,
   "metadata": {
    "vscode": {
     "languageId": "sql"
    }
   },
   "outputs": [],
   "source": []
  },
  {
   "cell_type": "code",
   "execution_count": null,
   "metadata": {
    "vscode": {
     "languageId": "sql"
    }
   },
   "outputs": [],
   "source": []
  }
 ],
 "metadata": {
  "kernelspec": {
   "display_name": ".venv",
   "language": "python",
   "name": "python3"
  },
  "language_info": {
   "codemirror_mode": {
    "name": "ipython",
    "version": 3
   },
   "file_extension": ".py",
   "mimetype": "text/x-python",
   "name": "python",
   "nbconvert_exporter": "python",
   "pygments_lexer": "ipython3",
   "version": "3.9.6"
  }
 },
 "nbformat": 4,
 "nbformat_minor": 2
}
